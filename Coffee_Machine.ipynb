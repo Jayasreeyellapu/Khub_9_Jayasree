{
  "nbformat": 4,
  "nbformat_minor": 0,
  "metadata": {
    "colab": {
      "provenance": [],
      "authorship_tag": "ABX9TyMPxc8MQIKr9lEOAUDq+GZB",
      "include_colab_link": true
    },
    "kernelspec": {
      "name": "python3",
      "display_name": "Python 3"
    },
    "language_info": {
      "name": "python"
    }
  },
  "cells": [
    {
      "cell_type": "markdown",
      "metadata": {
        "id": "view-in-github",
        "colab_type": "text"
      },
      "source": [
        "<a href=\"https://colab.research.google.com/github/Jayasreeyellapu/Khub_9_Jayasree/blob/main/Coffee_Machine.ipynb\" target=\"_parent\"><img src=\"https://colab.research.google.com/assets/colab-badge.svg\" alt=\"Open In Colab\"/></a>"
      ]
    },
    {
      "cell_type": "markdown",
      "source": [
        "<h1>COFFEE MACHINE PROGRAM</h1>\n"
      ],
      "metadata": {
        "id": "aNjtnvAXWXR_"
      }
    },
    {
      "cell_type": "code",
      "execution_count": null,
      "metadata": {
        "colab": {
          "base_uri": "https://localhost:8080/"
        },
        "id": "03Yybq-lUQ7O",
        "outputId": "97d28664-b16f-4b5e-9c1f-cd2b2d1869ef"
      },
      "outputs": [
        {
          "output_type": "stream",
          "name": "stdout",
          "text": [
            "You chose CAPPUCCINO\n",
            "Ingredients: {'water': 250, 'milk': 100, 'coffee': 24}\n",
            "Sorry, that's not enough money. Money refunded.\n",
            "Updated resources: {'water': 300, 'milk': 200, 'coffee': 100, 'money': 0.0}\n"
          ]
        }
      ],
      "source": [
        "MENU = {\n",
        "    \"espresso\": {\"ingredients\": {\"water\": 50, \"coffee\": 18}, \"cost\": 50},\n",
        "    \"latte\": {\"ingredients\": {\"water\": 200, \"milk\": 150, \"coffee\": 24}, \"cost\": 100},\n",
        "    \"cappuccino\": {\"ingredients\": {\"water\": 250, \"milk\": 100, \"coffee\": 24}, \"cost\": 150}\n",
        "}\n",
        "\n",
        "resources = {\n",
        "    \"water\": 300,\n",
        "    \"milk\": 200,\n",
        "    \"coffee\": 100,\n",
        "    \"money\": 0.0\n",
        "}\n",
        "\n",
        "while True:\n",
        "    choice = input(\"What would you like? (espresso/latte/cappuccino/off): \").lower()\n",
        "\n",
        "    if choice == \"off\":\n",
        "        print(\"Turning off the coffee machine...\")\n",
        "        break\n",
        "\n",
        "    elif choice in MENU:\n",
        "        drink = MENU[choice]\n",
        "        print(\"You chose \" + choice.upper())\n",
        "        print(\"Ingredients:\", drink[\"ingredients\"])\n",
        "\n",
        "        # Check resources\n",
        "        can_make = True\n",
        "        for item in drink[\"ingredients\"]:\n",
        "            if drink[\"ingredients\"][item] > resources[item]:\n",
        "                print(\"Sorry, not enough \" + item + \".\")\n",
        "                can_make = False\n",
        "                break\n",
        "\n",
        "        if can_make:\n",
        "            # Directly ask for rupees instead of coins\n",
        "            total_amount = float(input(\"Enter the amount in ₹: \"))\n",
        "\n",
        "            if total_amount >= drink[\"cost\"]:\n",
        "                change = total_amount - drink[\"cost\"]\n",
        "                if change > 0:\n",
        "                    print(\"Here is your change: ₹\" + str(change))\n",
        "                resources[\"money\"] += drink[\"cost\"]\n",
        "\n",
        "                # Deduct resources\n",
        "                for item in drink[\"ingredients\"]:\n",
        "                    resources[item] -= drink[\"ingredients\"][item]\n",
        "                print(\"Here is your \" + choice + \". Enjoy!\")\n",
        "            else:\n",
        "                print(\"Sorry, that's not enough money. Money refunded.\")\n",
        "\n",
        "        print(\"Updated resources:\", resources)\n",
        "\n",
        "    else:\n",
        "        print(\"Sorry, I don't have this item.\")"
      ]
    }
  ]
}