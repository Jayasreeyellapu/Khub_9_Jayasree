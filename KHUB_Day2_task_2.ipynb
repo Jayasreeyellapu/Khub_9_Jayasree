{
  "nbformat": 4,
  "nbformat_minor": 0,
  "metadata": {
    "colab": {
      "provenance": [],
      "authorship_tag": "ABX9TyMyRWeld7FKpTCgnS+GwQwL",
      "include_colab_link": true
    },
    "kernelspec": {
      "name": "python3",
      "display_name": "Python 3"
    },
    "language_info": {
      "name": "python"
    }
  },
  "cells": [
    {
      "cell_type": "markdown",
      "metadata": {
        "id": "view-in-github",
        "colab_type": "text"
      },
      "source": [
        "<a href=\"https://colab.research.google.com/github/Jayasreeyellapu/Khub_9_Jayasree/blob/main/KHUB_Day2_task_2.ipynb\" target=\"_parent\"><img src=\"https://colab.research.google.com/assets/colab-badge.svg\" alt=\"Open In Colab\"/></a>"
      ]
    },
    {
      "cell_type": "markdown",
      "source": [
        "python for loop is used for iterating over a sequence\n"
      ],
      "metadata": {
        "id": "yquhoamwz4Yd"
      }
    },
    {
      "cell_type": "code",
      "source": [
        "fruits=[\"apple\",\"banana\",\"cherry\"]\n",
        "for x in fruits:\n",
        "  print(x)"
      ],
      "metadata": {
        "colab": {
          "base_uri": "https://localhost:8080/"
        },
        "id": "UnjzA3_Az-A8",
        "outputId": "0703d783-878d-42d2-8a16-7cab54154c09"
      },
      "execution_count": null,
      "outputs": [
        {
          "output_type": "stream",
          "name": "stdout",
          "text": [
            "apple\n",
            "banana\n",
            "cherry\n"
          ]
        }
      ]
    },
    {
      "cell_type": "markdown",
      "source": [
        "we can use BREAK statement using in loop .We can stop loop before it has lopped."
      ],
      "metadata": {
        "id": "Esd_IGxU0IoZ"
      }
    },
    {
      "cell_type": "code",
      "source": [
        "fruits=[\"apple,\",\"banana\",\"cherry\",]\n",
        "for x in fruits:\n",
        "  print(x)\n",
        "  if x==\"banana\":\n",
        "    break"
      ],
      "metadata": {
        "colab": {
          "base_uri": "https://localhost:8080/"
        },
        "id": "HU8VYOJS0hVm",
        "outputId": "e1f5e843-5edb-44d3-d01f-20534af74418"
      },
      "execution_count": null,
      "outputs": [
        {
          "output_type": "stream",
          "name": "stdout",
          "text": [
            "apple,\n",
            "banana\n"
          ]
        }
      ]
    },
    {
      "cell_type": "markdown",
      "source": [
        "With continue statement we can stop iteration of the loop"
      ],
      "metadata": {
        "id": "dpD7yESM0mJL"
      }
    },
    {
      "cell_type": "code",
      "source": [
        "cars =[\"bugati\",\"range rover\",\"enova\"]\n",
        "for x in cars:\n",
        "  if x ==\"range rover\":\n",
        "    continue\n",
        "  print(x)"
      ],
      "metadata": {
        "colab": {
          "base_uri": "https://localhost:8080/"
        },
        "id": "VQ5juDb20sLY",
        "outputId": "3381e205-d443-41ee-b74a-0e44a2934a42"
      },
      "execution_count": null,
      "outputs": [
        {
          "output_type": "stream",
          "name": "stdout",
          "text": [
            "bugati\n",
            "enova\n"
          ]
        }
      ]
    },
    {
      "cell_type": "markdown",
      "source": [
        "to loop that the number of specified number of items we can use for the range function"
      ],
      "metadata": {
        "id": "gFTtTAab01BQ"
      }
    },
    {
      "cell_type": "code",
      "source": [
        "for x in range(7):\n",
        "  print(x)"
      ],
      "metadata": {
        "colab": {
          "base_uri": "https://localhost:8080/"
        },
        "id": "rugR1fjb1BPX",
        "outputId": "d85c9130-a607-44f7-a2e7-ee439a4bc084"
      },
      "execution_count": null,
      "outputs": [
        {
          "output_type": "stream",
          "name": "stdout",
          "text": [
            "0\n",
            "1\n",
            "2\n",
            "3\n",
            "4\n",
            "5\n",
            "6\n"
          ]
        }
      ]
    },
    {
      "cell_type": "markdown",
      "source": [
        " else keyword in a for loop it mentions a block of code to be executed when the loop is finished\n"
      ],
      "metadata": {
        "id": "8lTLWjID0w97"
      }
    },
    {
      "cell_type": "code",
      "source": [
        "for x in range(10):\n",
        "  print(x)\n",
        "else:\n",
        "  print (\"finally finished!\")"
      ],
      "metadata": {
        "colab": {
          "base_uri": "https://localhost:8080/"
        },
        "id": "9laiigkp1MgG",
        "outputId": "98b7776a-b89f-47a0-e521-331dc3da70a5"
      },
      "execution_count": null,
      "outputs": [
        {
          "output_type": "stream",
          "name": "stdout",
          "text": [
            "0\n",
            "1\n",
            "2\n",
            "3\n",
            "4\n",
            "5\n",
            "6\n",
            "7\n",
            "8\n",
            "9\n",
            "finally finished!\n"
          ]
        }
      ]
    },
    {
      "cell_type": "markdown",
      "source": [
        "In else now iam using break statementfor break the loop"
      ],
      "metadata": {
        "id": "XvV3k66H1T_y"
      }
    },
    {
      "cell_type": "code",
      "source": [
        "for x in range(6):\n",
        "  if x==3:\n",
        "    break\n",
        "  print(x)\n",
        "else:\n",
        "  print(\"finally finished!\")"
      ],
      "metadata": {
        "colab": {
          "base_uri": "https://localhost:8080/"
        },
        "id": "UaJZ30re1evb",
        "outputId": "b1d66b13-0aac-46aa-de2c-b39c21767659"
      },
      "execution_count": null,
      "outputs": [
        {
          "output_type": "stream",
          "name": "stdout",
          "text": [
            "0\n",
            "1\n",
            "2\n"
          ]
        }
      ]
    },
    {
      "cell_type": "markdown",
      "source": [
        "iam using string in for loop to count the vowels in the given text\n"
      ],
      "metadata": {
        "id": "IO_ffci_1nrr"
      }
    },
    {
      "cell_type": "code",
      "source": [
        "text=\"aeroplane\"\n",
        "vowels=\"aeiouAEIOU\"\n",
        "count=0\n",
        "for char in text:\n",
        "  if char in vowels:\n",
        "    count += 1\n",
        "    print(\"vowel count:\",count)\n"
      ],
      "metadata": {
        "colab": {
          "base_uri": "https://localhost:8080/"
        },
        "id": "fS5Gly1d1stD",
        "outputId": "a6dc4793-6c0a-42f9-e6af-ddcb28704b06"
      },
      "execution_count": null,
      "outputs": [
        {
          "output_type": "stream",
          "name": "stdout",
          "text": [
            "vowel count: 1\n",
            "vowel count: 2\n",
            "vowel count: 3\n",
            "vowel count: 4\n",
            "vowel count: 5\n"
          ]
        }
      ]
    },
    {
      "cell_type": "markdown",
      "source": [
        "now,i am using tuple for loop to store the item"
      ],
      "metadata": {
        "id": "fRAjCkMU1xhI"
      }
    },
    {
      "cell_type": "code",
      "source": [
        "t = (10, 20, 30, 40)\n",
        "for item in t:\n",
        "    print(item)"
      ],
      "metadata": {
        "colab": {
          "base_uri": "https://localhost:8080/"
        },
        "id": "73XT6cre15l4",
        "outputId": "2747031b-7cad-4006-ab52-8eb20bda1fe1"
      },
      "execution_count": null,
      "outputs": [
        {
          "output_type": "stream",
          "name": "stdout",
          "text": [
            "10\n",
            "20\n",
            "30\n",
            "40\n"
          ]
        }
      ]
    },
    {
      "cell_type": "markdown",
      "source": [
        "now iam using list in loop to store  the multiple item in one variable"
      ],
      "metadata": {
        "id": "XKr0bbWA2Bth"
      }
    },
    {
      "cell_type": "code",
      "source": [
        "numbers = [5, 11, 15]\n",
        "total = 0\n",
        "for num in numbers:\n",
        "    total += num\n",
        "print(\"Sum:\", total)\n"
      ],
      "metadata": {
        "colab": {
          "base_uri": "https://localhost:8080/"
        },
        "id": "1-fHB_oR2GoQ",
        "outputId": "5f4d7d3f-e6be-44e9-907b-38237c4c15be"
      },
      "execution_count": null,
      "outputs": [
        {
          "output_type": "stream",
          "name": "stdout",
          "text": [
            "Sum: 31\n"
          ]
        }
      ]
    },
    {
      "cell_type": "markdown",
      "source": [
        "with the while loop we can execute set of statements in long conditions\n"
      ],
      "metadata": {
        "id": "FxwzCT6-2Mla"
      }
    },
    {
      "cell_type": "code",
      "source": [
        "i=2\n",
        "while i<6:\n",
        "  print (i)\n",
        "  i +=1"
      ],
      "metadata": {
        "colab": {
          "base_uri": "https://localhost:8080/"
        },
        "id": "BoakUMt02Q81",
        "outputId": "c8923c83-bb41-4c7b-b5ce-54c6e766f339"
      },
      "execution_count": null,
      "outputs": [
        {
          "output_type": "stream",
          "name": "stdout",
          "text": [
            "2\n",
            "3\n",
            "4\n",
            "5\n"
          ]
        }
      ]
    },
    {
      "cell_type": "markdown",
      "source": [
        "Now i am printing the factorial in a while loop"
      ],
      "metadata": {
        "id": "qnLBUBsB2U6h"
      }
    },
    {
      "cell_type": "code",
      "source": [
        "num = 10\n",
        "result = 1\n",
        "while num > 0:\n",
        "    result *= num\n",
        "    num -= 1\n",
        "print(\"Factorial:\", result)\n"
      ],
      "metadata": {
        "colab": {
          "base_uri": "https://localhost:8080/"
        },
        "id": "YQ4j7HJP2bpo",
        "outputId": "e3ef9a04-500a-4285-deb2-67ec9ddef996"
      },
      "execution_count": null,
      "outputs": [
        {
          "output_type": "stream",
          "name": "stdout",
          "text": [
            "Factorial: 3628800\n"
          ]
        }
      ]
    },
    {
      "cell_type": "markdown",
      "source": [
        "now iam printing the starcode by using the while loop\n"
      ],
      "metadata": {
        "id": "IjOEZOA02fS9"
      }
    },
    {
      "cell_type": "code",
      "source": [
        "i = 1\n",
        "while i <= 5:\n",
        "    print(\"*\" * i)\n",
        "    i += 1\n"
      ],
      "metadata": {
        "colab": {
          "base_uri": "https://localhost:8080/"
        },
        "id": "AEctbR_J2hpU",
        "outputId": "e20c65e0-d699-4dc0-b317-1db3dafcc399"
      },
      "execution_count": null,
      "outputs": [
        {
          "output_type": "stream",
          "name": "stdout",
          "text": [
            "*\n",
            "**\n",
            "***\n",
            "****\n",
            "*****\n"
          ]
        }
      ]
    },
    {
      "cell_type": "markdown",
      "source": [
        "Printing digits of a number"
      ],
      "metadata": {
        "id": "MVaFWS-32onP"
      }
    },
    {
      "cell_type": "code",
      "source": [
        "num = 543\n",
        "while num > 0:\n",
        "    digit = num % 10\n",
        "    print(digit)\n",
        "    num //= 10\n"
      ],
      "metadata": {
        "colab": {
          "base_uri": "https://localhost:8080/"
        },
        "id": "tVK8ZV2D2rzi",
        "outputId": "b8338910-a9c1-459a-a96a-2d1fc2db1415"
      },
      "execution_count": null,
      "outputs": [
        {
          "output_type": "stream",
          "name": "stdout",
          "text": [
            "3\n",
            "4\n",
            "5\n"
          ]
        }
      ]
    },
    {
      "cell_type": "markdown",
      "source": [
        "So now iam using the else statement the condition will no longer true"
      ],
      "metadata": {
        "id": "9eQRugCT2v2b"
      }
    },
    {
      "cell_type": "code",
      "source": [
        "i=1\n",
        "while i<6:\n",
        "  i =+1\n",
        "  print()"
      ],
      "metadata": {
        "id": "nMhd_WN021Sf"
      },
      "execution_count": 14,
      "outputs": []
    },
    {
      "cell_type": "markdown",
      "source": [
        "loop control statements\n",
        "break statement it exists current loop even if condition is true"
      ],
      "metadata": {
        "id": "5RBLKsOW3bu4"
      }
    },
    {
      "cell_type": "code",
      "source": [
        "i = 1\n",
        "while i <= 10:\n",
        "    if i == 5:\n",
        "        break\n",
        "    print(i)\n",
        "    i += 1"
      ],
      "metadata": {
        "id": "zY12Z6yL3dMV",
        "colab": {
          "base_uri": "https://localhost:8080/"
        },
        "outputId": "9be1b1d4-5d85-4111-ddf8-bde265ffc43f"
      },
      "execution_count": 15,
      "outputs": [
        {
          "output_type": "stream",
          "name": "stdout",
          "text": [
            "1\n",
            "2\n",
            "3\n",
            "4\n"
          ]
        }
      ]
    },
    {
      "cell_type": "markdown",
      "source": [
        "continue statement stops current iteration and continues next statement"
      ],
      "metadata": {
        "id": "Xqxra4xY5VRe"
      }
    },
    {
      "cell_type": "code",
      "source": [
        "i = 0\n",
        "while i < 10:\n",
        "    i += 1\n",
        "    if i == 7:\n",
        "        continue\n",
        "    print(i)\n",
        "\n",
        "\n"
      ],
      "metadata": {
        "colab": {
          "base_uri": "https://localhost:8080/"
        },
        "id": "Y3yKRRDS5a7b",
        "outputId": "9477f8a6-bb80-45de-dede-7bafcec2b9f6"
      },
      "execution_count": 16,
      "outputs": [
        {
          "output_type": "stream",
          "name": "stdout",
          "text": [
            "1\n",
            "2\n",
            "3\n",
            "4\n",
            "5\n",
            "6\n",
            "8\n",
            "9\n",
            "10\n"
          ]
        }
      ]
    },
    {
      "cell_type": "markdown",
      "source": [
        "now iam skipping the vowls in a string by using the continue statement"
      ],
      "metadata": {
        "id": "ceCkbPdC5mD2"
      }
    },
    {
      "cell_type": "code",
      "source": [
        "s = \"hello WORD\"\n",
        "for char in s:\n",
        "    if char in \"aeiouAEIOU\":\n",
        "        continue\n",
        "    print(char, end=\"\")"
      ],
      "metadata": {
        "colab": {
          "base_uri": "https://localhost:8080/"
        },
        "id": "4JBYDMZo5twk",
        "outputId": "cb989ad7-cd87-42bd-f294-cdc0aca346a2"
      },
      "execution_count": 17,
      "outputs": [
        {
          "output_type": "stream",
          "name": "stdout",
          "text": [
            "hll WRD"
          ]
        }
      ]
    },
    {
      "cell_type": "markdown",
      "source": [
        "loop with else in python in this we can use for,while\n"
      ],
      "metadata": {
        "id": "a_Qf_ZrZ5yk5"
      }
    },
    {
      "cell_type": "code",
      "source": [
        "for i in range(5):\n",
        "    print(i)\n",
        "else:\n",
        "    print(\"Loop finished successfully!\")\n"
      ],
      "metadata": {
        "colab": {
          "base_uri": "https://localhost:8080/"
        },
        "id": "THQ8rP3l51Xx",
        "outputId": "083e8663-0d83-4f57-a010-4beaa0aa9f22"
      },
      "execution_count": 18,
      "outputs": [
        {
          "output_type": "stream",
          "name": "stdout",
          "text": [
            "0\n",
            "1\n",
            "2\n",
            "3\n",
            "4\n",
            "Loop finished successfully!\n"
          ]
        }
      ]
    },
    {
      "cell_type": "markdown",
      "source": [
        "nested loops we are going to print the star code by using for\n"
      ],
      "metadata": {
        "id": "mOz7VU-K57Xy"
      }
    },
    {
      "cell_type": "code",
      "source": [
        "for i in range(1, 6):\n",
        "    for j in range(i):\n",
        "        print(\"*\", end=\"\")\n",
        "    print()\n"
      ],
      "metadata": {
        "colab": {
          "base_uri": "https://localhost:8080/"
        },
        "id": "iansPjFq6DkY",
        "outputId": "a26efc53-898f-4a4f-b4d6-ee5f1b1b6203"
      },
      "execution_count": 19,
      "outputs": [
        {
          "output_type": "stream",
          "name": "stdout",
          "text": [
            "*\n",
            "**\n",
            "***\n",
            "****\n",
            "*****\n"
          ]
        }
      ]
    },
    {
      "cell_type": "markdown",
      "source": [
        "now iam printing the inverted triangle by using the negative value then only it gives the reverse order\n"
      ],
      "metadata": {
        "id": "2dUwCIYp6ICU"
      }
    },
    {
      "cell_type": "code",
      "source": [
        "for i in range(10, 0, -1):\n",
        "    for j in range(i):\n",
        "        print(\"*\", end=\"\")\n",
        "    print()\n"
      ],
      "metadata": {
        "colab": {
          "base_uri": "https://localhost:8080/"
        },
        "id": "chkTNC6b6KsU",
        "outputId": "1c1893b9-44ed-40bb-9372-24a7807d9db1"
      },
      "execution_count": 20,
      "outputs": [
        {
          "output_type": "stream",
          "name": "stdout",
          "text": [
            "**********\n",
            "*********\n",
            "********\n",
            "*******\n",
            "******\n",
            "*****\n",
            "****\n",
            "***\n",
            "**\n",
            "*\n"
          ]
        }
      ]
    },
    {
      "cell_type": "markdown",
      "source": [
        "now iam printing the multiplication table\n"
      ],
      "metadata": {
        "id": "hXEHssnr6Vq5"
      }
    },
    {
      "cell_type": "code",
      "source": [
        "for i in range(1, 3):\n",
        "    print(f\"{i}\")\n",
        "    for j in range(1, 11):\n",
        "        print(f\"{i} x {j} = {i * j}\")\n"
      ],
      "metadata": {
        "colab": {
          "base_uri": "https://localhost:8080/"
        },
        "id": "a9huvGuR6Yow",
        "outputId": "44e984bc-a279-4a50-b7dd-d5ecb1633672"
      },
      "execution_count": 21,
      "outputs": [
        {
          "output_type": "stream",
          "name": "stdout",
          "text": [
            "1\n",
            "1 x 1 = 1\n",
            "1 x 2 = 2\n",
            "1 x 3 = 3\n",
            "1 x 4 = 4\n",
            "1 x 5 = 5\n",
            "1 x 6 = 6\n",
            "1 x 7 = 7\n",
            "1 x 8 = 8\n",
            "1 x 9 = 9\n",
            "1 x 10 = 10\n",
            "2\n",
            "2 x 1 = 2\n",
            "2 x 2 = 4\n",
            "2 x 3 = 6\n",
            "2 x 4 = 8\n",
            "2 x 5 = 10\n",
            "2 x 6 = 12\n",
            "2 x 7 = 14\n",
            "2 x 8 = 16\n",
            "2 x 9 = 18\n",
            "2 x 10 = 20\n"
          ]
        }
      ]
    },
    {
      "cell_type": "markdown",
      "source": [
        "**FUNCTIONS**"
      ],
      "metadata": {
        "id": "1sI9kTbu6d17"
      }
    },
    {
      "cell_type": "markdown",
      "source": [
        "Creating a function using def"
      ],
      "metadata": {
        "id": "z6EbTO3d6idk"
      }
    },
    {
      "cell_type": "code",
      "source": [
        "def my_function():\n",
        "  print(\"Hi how are you\")\n",
        "\n",
        "my_function()"
      ],
      "metadata": {
        "colab": {
          "base_uri": "https://localhost:8080/"
        },
        "id": "KpfGxYsR6mgf",
        "outputId": "d0488a87-5bf1-4a60-ef80-b6b7ee8cdbbd"
      },
      "execution_count": 22,
      "outputs": [
        {
          "output_type": "stream",
          "name": "stdout",
          "text": [
            "Hi how are you\n"
          ]
        }
      ]
    },
    {
      "cell_type": "markdown",
      "source": [
        "now iam writing retur value in function by using return\n"
      ],
      "metadata": {
        "id": "C7Vexccf6rCP"
      }
    },
    {
      "cell_type": "markdown",
      "source": [
        "now iam writing retur value in function by using return\n"
      ],
      "metadata": {
        "id": "d0vRAqnb6vOG"
      }
    },
    {
      "cell_type": "code",
      "source": [
        "def add(a, b):\n",
        "    return a + b\n",
        "result = add(\"bike\",\"car\")\n",
        "print(result)\n"
      ],
      "metadata": {
        "colab": {
          "base_uri": "https://localhost:8080/"
        },
        "id": "yYkHP50u6yoz",
        "outputId": "5ba2bfce-7e9e-4dd7-b196-722fa78504a8"
      },
      "execution_count": 23,
      "outputs": [
        {
          "output_type": "stream",
          "name": "stdout",
          "text": [
            "bikecar\n"
          ]
        }
      ]
    },
    {
      "cell_type": "markdown",
      "source": [
        "POSITIONAL ARGUMENTS"
      ],
      "metadata": {
        "id": "SL5dmotM62Gf"
      }
    },
    {
      "cell_type": "code",
      "source": [
        "def greet(name, age):\n",
        "    print(f\"Hello {name}, you are {age} years old.\")\n",
        "\n",
        "greet(\"Jayasree\", 20)\n"
      ],
      "metadata": {
        "colab": {
          "base_uri": "https://localhost:8080/"
        },
        "id": "v1Th6ZjJ66KI",
        "outputId": "b4a24c41-db40-44dd-ee9c-bba55567d9ef"
      },
      "execution_count": 25,
      "outputs": [
        {
          "output_type": "stream",
          "name": "stdout",
          "text": [
            "Hello Jayasree, you are 20 years old.\n"
          ]
        }
      ]
    },
    {
      "cell_type": "markdown",
      "source": [
        "if we  give default values that are used if no argument is passed"
      ],
      "metadata": {
        "id": "RTepmqIr7XnR"
      }
    },
    {
      "cell_type": "code",
      "source": [
        "def greet(name, age=18):\n",
        "    print(f\"helo {name}, you are {age} years old.\")\n",
        "\n",
        "greet(\"Jayasree\")\n",
        "greet(\"Jayasree\",\"20\")"
      ],
      "metadata": {
        "colab": {
          "base_uri": "https://localhost:8080/"
        },
        "id": "Fy-KN5d97cVE",
        "outputId": "5da0e415-7570-4a6e-86ef-aba5650f34bf"
      },
      "execution_count": 26,
      "outputs": [
        {
          "output_type": "stream",
          "name": "stdout",
          "text": [
            "helo Jayasree, you are 18 years old.\n",
            "helo Jayasree, you are 20 years old.\n"
          ]
        }
      ]
    },
    {
      "cell_type": "code",
      "source": [
        "def greet(name, age):\n",
        "    print(f\"Hello {name}, you are {age} years old.\")\n",
        "greet(age=20, name=\"Jayasree\")\n"
      ],
      "metadata": {
        "colab": {
          "base_uri": "https://localhost:8080/"
        },
        "id": "ppdyHIDj7-N-",
        "outputId": "a85ec356-e5c3-4fc0-cc28-1dca05e04c6a"
      },
      "execution_count": 27,
      "outputs": [
        {
          "output_type": "stream",
          "name": "stdout",
          "text": [
            "Hello Jayasree, you are 20 years old.\n"
          ]
        }
      ]
    },
    {
      "cell_type": "markdown",
      "source": [
        "args we use for multiple variable number of arguments"
      ],
      "metadata": {
        "id": "TlhRa-wm8RCg"
      }
    },
    {
      "cell_type": "code",
      "source": [
        "def add(*numbers):\n",
        "    total = 0\n",
        "    for num in numbers:\n",
        "        total += num\n",
        "    print(\"Sum:\", total)\n",
        "add(1, 2, 3, 4)"
      ],
      "metadata": {
        "colab": {
          "base_uri": "https://localhost:8080/"
        },
        "id": "yUOZjNOz8WVv",
        "outputId": "767a24aa-bbf3-4ff1-bbb9-330084641f12"
      },
      "execution_count": 28,
      "outputs": [
        {
          "output_type": "stream",
          "name": "stdout",
          "text": [
            "Sum: 10\n"
          ]
        }
      ]
    },
    {
      "cell_type": "code",
      "source": [
        "def show_kwargs(**kwargs):\n",
        "    print( kwargs)\n",
        "\n",
        "show_kwargs(name=\"Jayasree\", age=20)"
      ],
      "metadata": {
        "id": "oIMO3G398c_R"
      },
      "execution_count": null,
      "outputs": []
    },
    {
      "cell_type": "markdown",
      "source": [
        "a variable declared all functions at outside and access all the functions\n"
      ],
      "metadata": {
        "id": "UPxeeHOS8lgD"
      }
    },
    {
      "cell_type": "code",
      "source": [
        "x = 10\n",
        "def show():\n",
        "    print(\"Inside function:\", x)\n",
        "show()\n",
        "print(\"Outside function:\", x)"
      ],
      "metadata": {
        "colab": {
          "base_uri": "https://localhost:8080/"
        },
        "id": "p6eHcDff8qnL",
        "outputId": "97c8d511-64c9-43aa-bca4-10f7ef48a651"
      },
      "execution_count": 31,
      "outputs": [
        {
          "output_type": "stream",
          "name": "stdout",
          "text": [
            "Inside function: 10\n",
            "Outside function: 10\n"
          ]
        }
      ]
    },
    {
      "cell_type": "markdown",
      "source": [
        "a varaiable declares inside the function"
      ],
      "metadata": {
        "id": "vkfdVOru8u_H"
      }
    },
    {
      "cell_type": "code",
      "source": [
        "def show():\n",
        "    y = 5\n",
        "    print(\"Inside function:\", y)\n",
        "show()"
      ],
      "metadata": {
        "colab": {
          "base_uri": "https://localhost:8080/"
        },
        "id": "VjWcEj1w8z1Q",
        "outputId": "6dfbf3e0-c9e4-4911-e879-4f74a24f15dc"
      },
      "execution_count": 30,
      "outputs": [
        {
          "output_type": "stream",
          "name": "stdout",
          "text": [
            "Inside function: 5\n"
          ]
        }
      ]
    },
    {
      "cell_type": "markdown",
      "source": [
        "if you want to modify variable in global function you must use global\n"
      ],
      "metadata": {
        "id": "uhmKup3O89zm"
      }
    },
    {
      "cell_type": "code",
      "source": [
        "z = 100\n",
        "def change():\n",
        "    global z\n",
        "    z = z + 50\n",
        "    print(\"Inside function:\", z)\n",
        "change()\n",
        "print(\"Outside function:\", z)"
      ],
      "metadata": {
        "id": "oVgAF_wR9Jqn",
        "outputId": "91911621-12b4-4575-b59e-0a6497cdb31a",
        "colab": {
          "base_uri": "https://localhost:8080/"
        }
      },
      "execution_count": 32,
      "outputs": [
        {
          "output_type": "stream",
          "name": "stdout",
          "text": [
            "Inside function: 150\n",
            "Outside function: 150\n"
          ]
        }
      ]
    },
    {
      "cell_type": "markdown",
      "source": [
        "a lamba function can take any number of arguments\n"
      ],
      "metadata": {
        "id": "95CcSdWU9MPW"
      }
    },
    {
      "cell_type": "code",
      "source": [
        "add = lambda x, y: x + y\n",
        "print(add(5, 3))\n"
      ],
      "metadata": {
        "id": "1FUgiO_p9QlD",
        "outputId": "048c4f25-910a-4b0b-f6e2-5f203b8c2a49",
        "colab": {
          "base_uri": "https://localhost:8080/"
        }
      },
      "execution_count": 33,
      "outputs": [
        {
          "output_type": "stream",
          "name": "stdout",
          "text": [
            "8\n"
          ]
        }
      ]
    },
    {
      "cell_type": "markdown",
      "source": [
        "applies a every function to the every item iterable\n"
      ],
      "metadata": {
        "id": "OQN-yCYw9Uk_"
      }
    },
    {
      "cell_type": "code",
      "source": [
        "numbers = [1, 2, 3, 4]\n",
        "squared = list(map(lambda x: x**2, numbers))\n",
        "print(squared)\n",
        "\n"
      ],
      "metadata": {
        "id": "GHeyY9_n9XsL",
        "outputId": "06fa5712-406d-420d-90a9-c2adfe4cde8f",
        "colab": {
          "base_uri": "https://localhost:8080/"
        }
      },
      "execution_count": 34,
      "outputs": [
        {
          "output_type": "stream",
          "name": "stdout",
          "text": [
            "[1, 4, 9, 16]\n"
          ]
        }
      ]
    },
    {
      "cell_type": "markdown",
      "source": [
        "filter elements based on the function"
      ],
      "metadata": {
        "id": "0GOX7avx9gIO"
      }
    },
    {
      "cell_type": "code",
      "source": [
        "numbers = [1, 2, 3, 4, 5, 6]\n",
        "evens = list(filter(lambda x: x % 2 == 0, numbers))\n",
        "print(evens)\n"
      ],
      "metadata": {
        "id": "qvKggUfs9jgg"
      },
      "execution_count": null,
      "outputs": []
    }
  ]
}