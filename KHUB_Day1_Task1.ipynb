{
  "nbformat": 4,
  "nbformat_minor": 0,
  "metadata": {
    "colab": {
      "provenance": [],
      "authorship_tag": "ABX9TyM9iJ31v2c+6IpPZd463a17",
      "include_colab_link": true
    },
    "kernelspec": {
      "name": "python3",
      "display_name": "Python 3"
    },
    "language_info": {
      "name": "python"
    }
  },
  "cells": [
    {
      "cell_type": "markdown",
      "metadata": {
        "id": "view-in-github",
        "colab_type": "text"
      },
      "source": [
        "<a href=\"https://colab.research.google.com/github/Jayasreeyellapu/Khub_9_Jayasree/blob/main/KHUB_Day1_Task1.ipynb\" target=\"_parent\"><img src=\"https://colab.research.google.com/assets/colab-badge.svg\" alt=\"Open In Colab\"/></a>"
      ]
    },
    {
      "cell_type": "markdown",
      "source": [
        "**DAY - 01**\n",
        "\n",
        "---\n",
        "\n"
      ],
      "metadata": {
        "id": "vxtsa3Xti8m0"
      }
    },
    {
      "cell_type": "markdown",
      "source": [
        "### TOPIC 01 :- strings and string methods, booleans, and operators"
      ],
      "metadata": {
        "id": "tvTh2YGfmara"
      }
    },
    {
      "cell_type": "markdown",
      "source": [
        "STRINGS :- A string is a sequence of characters enclosed in single (''), double (\"\"), or triple quotes (''' or \"\"\").\n",
        "\n",
        "For example :-\n",
        "s1 = 'Jayasree'\n",
        "s2 = \"Jayasree\"\n",
        "s3 = '''Jayasree''' (This is a multiline\n",
        "string)\n"
      ],
      "metadata": {
        "id": "cfbr124ImzRn"
      }
    },
    {
      "cell_type": "code",
      "source": [
        "print('Jayasree')\n",
        "print(\"Jayasree\")\n",
        "print('''Jayasree''')\n"
      ],
      "metadata": {
        "colab": {
          "base_uri": "https://localhost:8080/"
        },
        "id": "W2Ur7pKljXDe",
        "outputId": "0917896a-cc9e-41c5-e481-1743fb87c8f1"
      },
      "execution_count": null,
      "outputs": [
        {
          "output_type": "stream",
          "name": "stdout",
          "text": [
            "Jayasree\n",
            "Jayasree\n",
            "Jayasree\n"
          ]
        }
      ]
    },
    {
      "cell_type": "markdown",
      "source": [
        "### STRING METHODS :-\n"
      ],
      "metadata": {
        "id": "pJFV21ORoM5U"
      }
    },
    {
      "cell_type": "markdown",
      "source": [
        "lower() :- converts all charaters to lower case\n"
      ],
      "metadata": {
        "id": "S9pdEVLuq8vC"
      }
    },
    {
      "cell_type": "code",
      "source": [
        "'JAYASREE'.lower()"
      ],
      "metadata": {
        "colab": {
          "base_uri": "https://localhost:8080/",
          "height": 36
        },
        "id": "5X6MXx8grHcr",
        "outputId": "274731c9-bd62-41f5-f179-13ad72dbedd5"
      },
      "execution_count": null,
      "outputs": [
        {
          "output_type": "execute_result",
          "data": {
            "text/plain": [
              "'jayasree'"
            ],
            "application/vnd.google.colaboratory.intrinsic+json": {
              "type": "string"
            }
          },
          "metadata": {},
          "execution_count": 3
        }
      ]
    },
    {
      "cell_type": "markdown",
      "source": [
        "upper() :-Converts all characters to uppercase."
      ],
      "metadata": {
        "id": "5vJ4HlXarSE7"
      }
    },
    {
      "cell_type": "code",
      "source": [
        "'jayasree'.upper()"
      ],
      "metadata": {
        "colab": {
          "base_uri": "https://localhost:8080/",
          "height": 36
        },
        "id": "0yGitepYrb4g",
        "outputId": "57ad1ec1-21c6-4f3a-cdc5-4a9db961542e"
      },
      "execution_count": null,
      "outputs": [
        {
          "output_type": "execute_result",
          "data": {
            "text/plain": [
              "'JAYASREE'"
            ],
            "application/vnd.google.colaboratory.intrinsic+json": {
              "type": "string"
            }
          },
          "metadata": {},
          "execution_count": 4
        }
      ]
    },
    {
      "cell_type": "markdown",
      "source": [
        "capitalize() :- capitalize the first letter"
      ],
      "metadata": {
        "id": "qCL2TJgTrau0"
      }
    },
    {
      "cell_type": "code",
      "source": [
        "'i am a junior developer in Khub'.capitalize()"
      ],
      "metadata": {
        "colab": {
          "base_uri": "https://localhost:8080/",
          "height": 36
        },
        "id": "GdaeETGDrzmM",
        "outputId": "cfb38f7b-212e-4c5c-b820-8d06095c9827"
      },
      "execution_count": null,
      "outputs": [
        {
          "output_type": "execute_result",
          "data": {
            "text/plain": [
              "'I am a junior developer in khub'"
            ],
            "application/vnd.google.colaboratory.intrinsic+json": {
              "type": "string"
            }
          },
          "metadata": {},
          "execution_count": 6
        }
      ]
    },
    {
      "cell_type": "markdown",
      "source": [
        "title():- capitalizes the first letter of each word"
      ],
      "metadata": {
        "id": "erMuXEAlsGjh"
      }
    },
    {
      "cell_type": "code",
      "source": [
        "'i am a junior developer in khub'.title()"
      ],
      "metadata": {
        "colab": {
          "base_uri": "https://localhost:8080/",
          "height": 36
        },
        "id": "Um3JDz0ksXZW",
        "outputId": "0d4124ea-9adf-4fa6-e7c0-12c9b442f7c4"
      },
      "execution_count": null,
      "outputs": [
        {
          "output_type": "execute_result",
          "data": {
            "text/plain": [
              "'I Am A Junior Developer In Khub'"
            ],
            "application/vnd.google.colaboratory.intrinsic+json": {
              "type": "string"
            }
          },
          "metadata": {},
          "execution_count": 9
        }
      ]
    },
    {
      "cell_type": "markdown",
      "source": [
        "strip :- removes leading spaces\n",
        "strip() → removes from both ends.\n",
        "lstrip() → removes from the left only.\n",
        "rstrip() → removes from the right only."
      ],
      "metadata": {
        "id": "jq-7wKoZtSDk"
      }
    },
    {
      "cell_type": "code",
      "source": [
        "' I am a junior developer in khub '.strip()\n",
        "'  I am a junior developer in khub'.lstrip()\n",
        "'I am a junior developer in khub   '.rstrip()\n"
      ],
      "metadata": {
        "colab": {
          "base_uri": "https://localhost:8080/",
          "height": 36
        },
        "id": "x8lgubektZn7",
        "outputId": "bc4bdc9c-66cc-4012-844f-f6c12246d400"
      },
      "execution_count": null,
      "outputs": [
        {
          "output_type": "execute_result",
          "data": {
            "text/plain": [
              "'I am a junior developer in khub'"
            ],
            "application/vnd.google.colaboratory.intrinsic+json": {
              "type": "string"
            }
          },
          "metadata": {},
          "execution_count": 14
        }
      ]
    },
    {
      "cell_type": "markdown",
      "source": [
        "replace(old, new) :-Replaces old with new."
      ],
      "metadata": {
        "id": "yX3t6AX2uku_"
      }
    },
    {
      "cell_type": "code",
      "source": [
        "'jayasree'.replace('a','@')"
      ],
      "metadata": {
        "colab": {
          "base_uri": "https://localhost:8080/",
          "height": 36
        },
        "id": "GTmY0gtzus2M",
        "outputId": "a66b51bd-c842-4f8c-e2dd-335c1549159b"
      },
      "execution_count": null,
      "outputs": [
        {
          "output_type": "execute_result",
          "data": {
            "text/plain": [
              "'j@y@sree'"
            ],
            "application/vnd.google.colaboratory.intrinsic+json": {
              "type": "string"
            }
          },
          "metadata": {},
          "execution_count": 14
        }
      ]
    },
    {
      "cell_type": "markdown",
      "source": [
        "split(sep) :-Splits string into a list by separator"
      ],
      "metadata": {
        "id": "Juyy-UjdjL6-"
      }
    },
    {
      "cell_type": "code",
      "source": [
        "'j,a,y,a'.split(\",\")"
      ],
      "metadata": {
        "colab": {
          "base_uri": "https://localhost:8080/"
        },
        "id": "kYVT2wX8vG5I",
        "outputId": "9bd53485-0554-4ec9-8fb1-d66a76963b5d"
      },
      "execution_count": null,
      "outputs": [
        {
          "output_type": "execute_result",
          "data": {
            "text/plain": [
              "['j', 'a', 'y', 'a']"
            ]
          },
          "metadata": {},
          "execution_count": 16
        }
      ]
    },
    {
      "cell_type": "markdown",
      "source": [
        "join(list) :-Joins list items into a single string"
      ],
      "metadata": {
        "id": "ssLTlvtovX3T"
      }
    },
    {
      "cell_type": "code",
      "source": [
        "'-'.join(['a','b'])"
      ],
      "metadata": {
        "colab": {
          "base_uri": "https://localhost:8080/",
          "height": 36
        },
        "id": "iRQm5_SFClIS",
        "outputId": "693ac643-811c-4e2c-c5e6-10e027bc356e"
      },
      "execution_count": null,
      "outputs": [
        {
          "output_type": "execute_result",
          "data": {
            "text/plain": [
              "'a-b'"
            ],
            "application/vnd.google.colaboratory.intrinsic+json": {
              "type": "string"
            }
          },
          "metadata": {},
          "execution_count": 1
        }
      ]
    },
    {
      "cell_type": "markdown",
      "source": [
        "find(sub): Finds first index of sub.\n"
      ],
      "metadata": {
        "id": "YxbfJuM0C4PL"
      }
    },
    {
      "cell_type": "code",
      "source": [
        "'jayasree'.find('e')"
      ],
      "metadata": {
        "colab": {
          "base_uri": "https://localhost:8080/"
        },
        "id": "fZZfj09TC_uS",
        "outputId": "0cf1f428-e5ed-4ee7-bbb9-a470aa870bcd"
      },
      "execution_count": null,
      "outputs": [
        {
          "output_type": "execute_result",
          "data": {
            "text/plain": [
              "6"
            ]
          },
          "metadata": {},
          "execution_count": 4
        }
      ]
    },
    {
      "cell_type": "markdown",
      "source": [
        "count(sub): Counts how many times sub appears.\n"
      ],
      "metadata": {
        "id": "4yWZk8VOv1kG"
      }
    },
    {
      "cell_type": "code",
      "source": [
        "'jayasree'.count('r')"
      ],
      "metadata": {
        "colab": {
          "base_uri": "https://localhost:8080/"
        },
        "id": "r39xxNFzDgcl",
        "outputId": "2084b056-1c17-4554-95d2-54cecd2d2bb7"
      },
      "execution_count": null,
      "outputs": [
        {
          "output_type": "execute_result",
          "data": {
            "text/plain": [
              "1"
            ]
          },
          "metadata": {},
          "execution_count": 6
        }
      ]
    },
    {
      "cell_type": "markdown",
      "source": [
        "startswith(sub): Checks if string starts with sub.\n"
      ],
      "metadata": {
        "id": "h71JjKTMDsyC"
      }
    },
    {
      "cell_type": "code",
      "source": [
        "'jayasri'.startswith('ja')"
      ],
      "metadata": {
        "colab": {
          "base_uri": "https://localhost:8080/"
        },
        "id": "RupUkMUhD1E0",
        "outputId": "b8dc9503-5848-4783-caea-fe93dddc9ecc"
      },
      "execution_count": null,
      "outputs": [
        {
          "output_type": "execute_result",
          "data": {
            "text/plain": [
              "True"
            ]
          },
          "metadata": {},
          "execution_count": 7
        }
      ]
    },
    {
      "cell_type": "markdown",
      "source": [
        "endswith(sub): Checks if string ends with sub.\n"
      ],
      "metadata": {
        "id": "yDudW4CEEAVw"
      }
    },
    {
      "cell_type": "code",
      "source": [
        "'jayasree'.endswith('ya')"
      ],
      "metadata": {
        "colab": {
          "base_uri": "https://localhost:8080/"
        },
        "id": "soy-U1SwEFBe",
        "outputId": "293ff219-06fd-4bf1-d214-430a4831447a"
      },
      "execution_count": null,
      "outputs": [
        {
          "output_type": "execute_result",
          "data": {
            "text/plain": [
              "False"
            ]
          },
          "metadata": {},
          "execution_count": 8
        }
      ]
    },
    {
      "cell_type": "markdown",
      "source": [
        "isalpha(): Checks if all chars are letters"
      ],
      "metadata": {
        "id": "YQ8CCmr8EQuG"
      }
    },
    {
      "cell_type": "code",
      "source": [
        "'jaya'.isalpha()"
      ],
      "metadata": {
        "colab": {
          "base_uri": "https://localhost:8080/"
        },
        "id": "cRDLRxAVEPe5",
        "outputId": "380b06d3-2c48-4eb6-dc9a-c309fab54317"
      },
      "execution_count": null,
      "outputs": [
        {
          "output_type": "execute_result",
          "data": {
            "text/plain": [
              "True"
            ]
          },
          "metadata": {},
          "execution_count": 9
        }
      ]
    },
    {
      "cell_type": "markdown",
      "source": [
        "isdigit(): Checks if all chars are digits.\n"
      ],
      "metadata": {
        "id": "K5yOzt0LEfjG"
      }
    },
    {
      "cell_type": "code",
      "source": [
        "'2025'.isdigit()\n"
      ],
      "metadata": {
        "colab": {
          "base_uri": "https://localhost:8080/"
        },
        "id": "cksE_QuWElYF",
        "outputId": "596d3aff-7856-4015-ae10-dfd39b1cbec0"
      },
      "execution_count": null,
      "outputs": [
        {
          "output_type": "execute_result",
          "data": {
            "text/plain": [
              "True"
            ]
          },
          "metadata": {},
          "execution_count": 11
        }
      ]
    },
    {
      "cell_type": "markdown",
      "source": [
        "isalnum(): Checks if all chars are letters/digits.\n"
      ],
      "metadata": {
        "id": "PYRza0fFEzkl"
      }
    },
    {
      "cell_type": "code",
      "source": [
        "'jaya2175'.isalnum()"
      ],
      "metadata": {
        "colab": {
          "base_uri": "https://localhost:8080/"
        },
        "id": "FbIyrvOfE6D5",
        "outputId": "bf3607ed-8ee2-4661-aa71-557aa9cb0287"
      },
      "execution_count": null,
      "outputs": [
        {
          "output_type": "execute_result",
          "data": {
            "text/plain": [
              "True"
            ]
          },
          "metadata": {},
          "execution_count": 12
        }
      ]
    },
    {
      "cell_type": "markdown",
      "source": [
        "**BOOLEANS**"
      ],
      "metadata": {
        "id": "J8MaQGI8GOiR"
      }
    },
    {
      "cell_type": "markdown",
      "source": [
        "**What is a Boolean?**\n",
        "A Boolean is a data type with only two possible values:\n",
        "True (1)\n",
        "False (0)\n",
        "\n",
        "\n",
        "\n",
        "\n",
        "\n",
        "\n",
        "\n"
      ],
      "metadata": {
        "id": "viQoZoCQGd8f"
      }
    },
    {
      "cell_type": "code",
      "source": [
        "a = 18\n",
        "if a > b:\n",
        "  print(\"adult\")\n",
        "else:\n",
        "  print(\"teenager\")"
      ],
      "metadata": {
        "colab": {
          "base_uri": "https://localhost:8080/"
        },
        "id": "3BhHsw-EH5Do",
        "outputId": "4c750849-1c1a-45bc-f488-b8147ba6dac7"
      },
      "execution_count": null,
      "outputs": [
        {
          "output_type": "stream",
          "name": "stdout",
          "text": [
            "teenager\n"
          ]
        }
      ]
    },
    {
      "cell_type": "code",
      "source": [
        "is_sunny = True\n",
        "has_umbrella = False\n",
        "\n",
        "if is_sunny or has_umbrella:\n",
        "    print(\"You can go outside.\")\n",
        "else:\n",
        "    print(\"Better stay indoors.\")\n"
      ],
      "metadata": {
        "colab": {
          "base_uri": "https://localhost:8080/"
        },
        "id": "tw2yorWlNcTm",
        "outputId": "03323c27-b540-4a14-c0c9-90ad27ef54eb"
      },
      "execution_count": null,
      "outputs": [
        {
          "output_type": "stream",
          "name": "stdout",
          "text": [
            "You can go outside.\n"
          ]
        }
      ]
    },
    {
      "cell_type": "markdown",
      "source": [
        "**OPERATORS**"
      ],
      "metadata": {
        "id": "ZuDhYon1LzJf"
      }
    },
    {
      "cell_type": "markdown",
      "source": [
        "AND Operator: Returns True only if both values are True.\n",
        "\n",
        "True → if both conditions are True\n",
        "False → if any one (or both) is False"
      ],
      "metadata": {
        "id": "yT3wU7TEL3ol"
      }
    },
    {
      "cell_type": "code",
      "source": [
        "is_hungry = True\n",
        "has_food = True\n",
        "\n",
        "if is_hungry and has_food:\n",
        "    print(\"You can eat!\")\n",
        "else:\n",
        "    print(\"You can't eat.\")\n"
      ],
      "metadata": {
        "colab": {
          "base_uri": "https://localhost:8080/"
        },
        "id": "3q5CVOxnMDV8",
        "outputId": "e173c539-c6da-489f-81f4-f816e292c8c7"
      },
      "execution_count": null,
      "outputs": [
        {
          "output_type": "stream",
          "name": "stdout",
          "text": [
            "You can eat!\n"
          ]
        }
      ]
    },
    {
      "cell_type": "markdown",
      "source": [
        "OR operator : The or operator returns:\n",
        "\n",
        "    True → if at least one condition is True\n",
        "\n",
        "    False → only if both are False"
      ],
      "metadata": {
        "id": "4d_Vye4eOIuD"
      }
    },
    {
      "cell_type": "code",
      "source": [
        "is_hungry = True\n",
        "has_food = True\n",
        "\n",
        "if is_hungry or has_food:\n",
        "  print(\"You can eat!\")"
      ],
      "metadata": {
        "colab": {
          "base_uri": "https://localhost:8080/"
        },
        "id": "BYaO1zu3OUs9",
        "outputId": "61992caf-e6f5-46a5-ff41-7a05c49c9231"
      },
      "execution_count": null,
      "outputs": [
        {
          "output_type": "stream",
          "name": "stdout",
          "text": [
            "You can eat!\n"
          ]
        }
      ]
    },
    {
      "cell_type": "markdown",
      "source": [
        "Not operator:The not operator is used to reverse the value\n",
        "If not True becomes False, and not False becomes True.\n"
      ],
      "metadata": {
        "id": "pdYhpNCmPIoe"
      }
    },
    {
      "cell_type": "code",
      "source": [
        "is_hungry = False\n",
        "\n",
        "if not is_hungry:\n",
        "    print(\"You are not hungry.\")\n",
        "else:\n",
        "    print(\"You are hungry, go eat!\")\n"
      ],
      "metadata": {
        "colab": {
          "base_uri": "https://localhost:8080/"
        },
        "id": "ybnV2hejPndH",
        "outputId": "5bead898-1caa-42f6-f85a-042fcff604ce"
      },
      "execution_count": null,
      "outputs": [
        {
          "output_type": "stream",
          "name": "stdout",
          "text": [
            "You are not hungry.\n"
          ]
        }
      ]
    },
    {
      "cell_type": "markdown",
      "source": [
        "### Topic 2:list, tuples, sets and dictionaries"
      ],
      "metadata": {
        "id": "-b9mhkoJQLxA"
      }
    },
    {
      "cell_type": "markdown",
      "source": [
        "# List ([])\n",
        "*   Ordered\n",
        "*   Changeable ( you can add,move,or update )\n",
        "*   Allows duplicates\n",
        "\n",
        "\n",
        "\n",
        "\n"
      ],
      "metadata": {
        "id": "xw-DlkRZRjO7"
      }
    },
    {
      "cell_type": "code",
      "source": [
        "fruits = [\"apple\", \"banana\", \"cherry\"]\n",
        "print(fruits[0])\n",
        "fruits.append(\"orange\")\n",
        "print(fruits)\n"
      ],
      "metadata": {
        "colab": {
          "base_uri": "https://localhost:8080/"
        },
        "id": "oimPa-RBSdUi",
        "outputId": "63172780-ebfc-4b93-edc2-996b08b37531"
      },
      "execution_count": null,
      "outputs": [
        {
          "output_type": "stream",
          "name": "stdout",
          "text": [
            "apple\n",
            "['apple', 'banana', 'cherry', 'orange']\n"
          ]
        }
      ]
    },
    {
      "cell_type": "markdown",
      "source": [
        "# Tuple ( () )\n",
        "*   Ordered\n",
        "*   Unchangeable\n",
        "*  Allows duplicates\n",
        "\n",
        "\n",
        "\n",
        "\n",
        "\n"
      ],
      "metadata": {
        "id": "3Qfaf1oeSmJf"
      }
    },
    {
      "cell_type": "code",
      "source": [
        "colors = (\"red\", \"green\", \"blue\")\n",
        "print(colors[1])\n"
      ],
      "metadata": {
        "colab": {
          "base_uri": "https://localhost:8080/"
        },
        "id": "Judn3ASETK0H",
        "outputId": "071b64e2-6ac8-49a8-e3e1-d9da69052860"
      },
      "execution_count": null,
      "outputs": [
        {
          "output_type": "stream",
          "name": "stdout",
          "text": [
            "green\n"
          ]
        }
      ]
    },
    {
      "cell_type": "markdown",
      "source": [
        "## Set ( {} )\n",
        "*   Unordered\n",
        "*   No duplicates\n",
        "*   Items can’t be accessed by index\n",
        "*   Useful for removing duplicates\n",
        "\n",
        "\n"
      ],
      "metadata": {
        "id": "gbtq2RS3TQ53"
      }
    },
    {
      "cell_type": "code",
      "source": [
        "numbers = {1, 2, 3, 2, 1}\n",
        "print(numbers)\n",
        "numbers.add(4)\n",
        "print(numbers)"
      ],
      "metadata": {
        "colab": {
          "base_uri": "https://localhost:8080/"
        },
        "id": "7JR3En9_T3-n",
        "outputId": "50e0e539-2ead-4327-e950-50ea7f051e55"
      },
      "execution_count": null,
      "outputs": [
        {
          "output_type": "stream",
          "name": "stdout",
          "text": [
            "{1, 2, 3}\n",
            "{1, 2, 3, 4}\n"
          ]
        }
      ]
    },
    {
      "cell_type": "markdown",
      "source": [
        "# Dictionary ( {} )\n",
        "*   Key-value pairs\n",
        "\n",
        "* Ordered (from Python 3.7+)\n",
        "\n",
        "* Keys must be unique\n",
        "   \n",
        "\n"
      ],
      "metadata": {
        "id": "y381IKnmUDhn"
      }
    },
    {
      "cell_type": "markdown",
      "source": [
        "**CONDITIONAL STATEMENTS** :\n",
        "Conditional statements are used to make decisions in program.They allow the code to choose different actions based on whether a condition is True or False."
      ],
      "metadata": {
        "id": "wygt0bC_UPzH"
      }
    },
    {
      "cell_type": "markdown",
      "source": [
        "# if\n",
        " Runs code if the condition is True"
      ],
      "metadata": {
        "id": "5i-jdyk1WDjx"
      }
    },
    {
      "cell_type": "code",
      "source": [
        "x = 10\n",
        "\n",
        "if x > 5:\n",
        "    print(\"x is greater than 5\")\n"
      ],
      "metadata": {
        "colab": {
          "base_uri": "https://localhost:8080/"
        },
        "id": "5-V7F5zIWUrN",
        "outputId": "501045c1-92ef-4801-afe4-008d2429d21f"
      },
      "execution_count": null,
      "outputs": [
        {
          "output_type": "stream",
          "name": "stdout",
          "text": [
            "x is greater than 5\n"
          ]
        }
      ]
    },
    {
      "cell_type": "markdown",
      "source": [
        "else\n",
        "Runs code if none of the above conditions are True"
      ],
      "metadata": {
        "id": "YfTyRLzqWYC6"
      }
    },
    {
      "cell_type": "code",
      "source": [
        "age = 16\n",
        "\n",
        "if age >= 18:\n",
        "    print(\"You are an adult.\")\n",
        "else:\n",
        "    print(\"You are a minor\")"
      ],
      "metadata": {
        "colab": {
          "base_uri": "https://localhost:8080/"
        },
        "id": "oDY_llNgWlfC",
        "outputId": "a1ef0393-eb6a-4ffb-84f0-beeaa0bf1baf"
      },
      "execution_count": null,
      "outputs": [
        {
          "output_type": "stream",
          "name": "stdout",
          "text": [
            "You are a minor\n"
          ]
        }
      ]
    },
    {
      "cell_type": "markdown",
      "source": [
        "# elif\n",
        "  Checks another condition if the first one was False"
      ],
      "metadata": {
        "id": "q-QBvfqNW-dN"
      }
    },
    {
      "cell_type": "code",
      "source": [
        "marks = 75\n",
        "\n",
        "if marks >= 90:\n",
        "    print(\"Grade A\")\n",
        "elif marks >= 70:\n",
        "    print(\"Grade B\")\n",
        "elif marks >= 50:\n",
        "    print(\"Grade C\")\n",
        "else:\n",
        "    print(\"Fail\")\n"
      ],
      "metadata": {
        "colab": {
          "base_uri": "https://localhost:8080/"
        },
        "id": "cp4qO_JaXj1O",
        "outputId": "3294e22c-60b2-41ab-e692-ce49af2d3247"
      },
      "execution_count": null,
      "outputs": [
        {
          "output_type": "stream",
          "name": "stdout",
          "text": [
            "Grade B\n"
          ]
        }
      ]
    },
    {
      "cell_type": "markdown",
      "source": [
        "# Nested if\n",
        "A nested if statement is when you put one if statement inside another if statement\n",
        "\n",
        "*It allows you to check more than one condition in a step-by-step way\n"
      ],
      "metadata": {
        "id": "8SR_RJSrXIDb"
      }
    },
    {
      "cell_type": "code",
      "source": [
        "age = 20\n",
        "has_ticket = True\n",
        "\n",
        "if age >= 18:\n",
        "    if has_ticket:\n",
        "        print(\"You can enter the movie.\")\n",
        "    else:\n",
        "        print(\"You need a ticket to enter.\")\n",
        "else:\n",
        "    print(\"You are too young to enter.\")\n"
      ],
      "metadata": {
        "colab": {
          "base_uri": "https://localhost:8080/"
        },
        "id": "7oNVgJ9XZbKi",
        "outputId": "d4006223-76e4-4867-ba16-bf5d9b03c5a4"
      },
      "execution_count": null,
      "outputs": [
        {
          "output_type": "stream",
          "name": "stdout",
          "text": [
            "You can enter the movie.\n"
          ]
        }
      ]
    },
    {
      "cell_type": "markdown",
      "source": [
        "**MATCH CASE**\n",
        "\n",
        "* match case is a way to write clean and readable multi-condition checKS.\n",
        "* Instead of writing many if...elif...else, you can use match case to make the code cleaner"
      ],
      "metadata": {
        "id": "T7jAYoB3at0k"
      }
    },
    {
      "cell_type": "code",
      "source": [
        "day = \"Monday\"\n",
        "\n",
        "match day:\n",
        "    case \"Monday\":\n",
        "        print(\"Start of the week\")\n",
        "    case \"Friday\":\n",
        "        print(\"Weekend is near!\")\n",
        "    case \"Sunday\":\n",
        "        print(\"Rest day\")\n",
        "    case _:\n",
        "        print(\"Just a regular day\")\n"
      ],
      "metadata": {
        "colab": {
          "base_uri": "https://localhost:8080/"
        },
        "id": "rckSWP9ZbNHa",
        "outputId": "b3298dac-d5d5-4741-d73a-433104e98b5c"
      },
      "execution_count": null,
      "outputs": [
        {
          "output_type": "stream",
          "name": "stdout",
          "text": [
            "Start of the week\n"
          ]
        }
      ]
    },
    {
      "cell_type": "markdown",
      "source": [
        " Key Points:\n",
        "\n",
        "   *  match checks the value of a variable\n",
        "\n",
        "   *  case is like each possible option\n",
        "\n",
        "   *  case _: is the default case (like else)"
      ],
      "metadata": {
        "id": "MI9HmyA1bQ9N"
      }
    }
  ]
}